{
 "cells": [
  {
   "cell_type": "markdown",
   "metadata": {},
   "source": [
    "# Visualizating text data using scattertext\n",
    "In this notebook I have used formspring data (https://www.kaggle.com/swetaagrawal/formspring-data-for-cyberbullying-detection) in order to visualize the text in a way, very informative and unique compared to conventional methods. Tuorials and installation instructions for scattertext library can be accessed from the authors github page: https://github.com/JasonKessler/scattertext"
   ]
  },
  {
   "cell_type": "code",
   "execution_count": 1,
   "metadata": {},
   "outputs": [
    {
     "data": {
      "text/html": [
       "<style>.container { width:98% !important; }</style>"
      ],
      "text/plain": [
       "<IPython.core.display.HTML object>"
      ]
     },
     "metadata": {},
     "output_type": "display_data"
    }
   ],
   "source": [
    "%matplotlib inline\n",
    "import pickle\n",
    "import scattertext as st\n",
    "import re, io\n",
    "from pprint import pprint\n",
    "import pandas as pd\n",
    "import numpy as np\n",
    "from scipy.stats import rankdata, hmean, norm\n",
    "import spacy\n",
    "#spacy.load('en')\n",
    "import os, pkgutil, json, urllib\n",
    "from urllib.request import urlopen\n",
    "from IPython.display import IFrame\n",
    "from IPython.core.display import display, HTML\n",
    "from scattertext import CorpusFromPandas, produce_scattertext_explorer\n",
    "display(HTML(\"<style>.container { width:98% !important; }</style>\"))"
   ]
  },
  {
   "cell_type": "code",
   "execution_count": 2,
   "metadata": {},
   "outputs": [],
   "source": [
    "#The formspring dataset was cleaned and labeling was converted to binary form using \n",
    "#extract.py script and loaded into pickle files\n",
    "words_file = \"my_dataset.pkl\"\n",
    "labels_file = \"my_feature_list.pkl\"\n",
    "word_data = pickle.load( open(words_file, \"rb\"))\n",
    "labels_data = pickle.load( open(labels_file, \"rb\") )\n",
    "#Here we simply want to change the labels from (0,1) to (bully, notBully)\n",
    "new_label = []\n",
    "for item in labels_data:\n",
    "    if item == \"0\":\n",
    "        new_label.append(\"notBully\")\n",
    "    elif item == \"1\":\n",
    "        new_label.append(\"Bully\")\n",
    "    else:\n",
    "        print(\"data not readable\")\n",
    "        exit(1)"
   ]
  },
  {
   "cell_type": "code",
   "execution_count": 3,
   "metadata": {},
   "outputs": [],
   "source": [
    "bully_df= pd.DataFrame({'text': word_data,'flag': new_label})"
   ]
  },
  {
   "cell_type": "code",
   "execution_count": 4,
   "metadata": {},
   "outputs": [
    {
     "name": "stdout",
     "output_type": "stream",
     "text": [
      "       flag                                               text  count\n",
      "0  notBully   what&#039;s your favorite song? :D I like too...     29\n",
      "1  notBully   <3 </3 ? haha jk! <33\\t<3\\t </3 ? haha jk! <3...     13\n",
      "2  notBully   &quot;hey angel  you duh sexy&quot; Really?!?...     17\n",
      "5  notBully   any makeup tips? i suck at doing my makeup lo...     47\n",
      "6  notBully   Apriiiiiiiiiiiill!!! I miss uuuu! It&#039;s E...     33\n"
     ]
    },
    {
     "data": {
      "text/plain": [
       "(12256, 3)"
      ]
     },
     "execution_count": 4,
     "metadata": {},
     "output_type": "execute_result"
    }
   ],
   "source": [
    "## Scattertext may choke if you have a category with very few words in it.\n",
    "## We want to make sure we have at least 10 words in each comment\n",
    "bully_df[\"count\"] = bully_df['text'].str.split().str.len()\n",
    "bully_df_good = bully_df.loc[bully_df['count'] > 10]\n",
    "print(bully_df_good.head())\n",
    "bully_df_good.shape"
   ]
  },
  {
   "cell_type": "code",
   "execution_count": 5,
   "metadata": {},
   "outputs": [],
   "source": [
    "# Now we let the scattertest handle the punctuation. I noticed that feeding\n",
    "# comments that are already teated for punctuation somehow results in error.\n",
    "nlp = st.whitespace_nlp_with_sentences\n",
    "corpus = st.CorpusFromPandas(bully_df_good, category_col='flag', text_col='text', nlp=nlp).build()"
   ]
  },
  {
   "cell_type": "code",
   "execution_count": 6,
   "metadata": {},
   "outputs": [
    {
     "name": "stdout",
     "output_type": "stream",
     "text": [
      "['buffalo',\n",
      " 'buffalo buffalo',\n",
      " 'bitch',\n",
      " 'stfu',\n",
      " 'hoe',\n",
      " 'talk shit',\n",
      " 'fuck off',\n",
      " 'fat',\n",
      " 'bxtch',\n",
      " 'isn 39']\n"
     ]
    }
   ],
   "source": [
    "# Here are the top 10 words that are most representative of Bully like comments\n",
    "term_freq_df = corpus.get_term_freq_df()\n",
    "term_freq_df['Bully Score'] = corpus.get_scaled_f_scores('Bully')\n",
    "pprint(list(term_freq_df.sort_values(by='Bully Score', ascending=False).index[:10]))"
   ]
  },
  {
   "cell_type": "code",
   "execution_count": 7,
   "metadata": {},
   "outputs": [
    {
     "name": "stdout",
     "output_type": "stream",
     "text": [
      "['first',\n",
      " 's your',\n",
      " 'family',\n",
      " 'movie',\n",
      " 'they are',\n",
      " 'new',\n",
      " 'money',\n",
      " 'it is',\n",
      " 'to have',\n",
      " 'home']\n"
     ]
    }
   ],
   "source": [
    "# Here are the top 10 words that are most representative of nonBully like comments\n",
    "term_freq_df = corpus.get_term_freq_df()\n",
    "term_freq_df['nonBully Score'] = corpus.get_scaled_f_scores('notBully')\n",
    "pprint(list(term_freq_df.sort_values(by='nonBully Score', ascending=False).index[:10]))"
   ]
  },
  {
   "cell_type": "code",
   "execution_count": 8,
   "metadata": {},
   "outputs": [
    {
     "data": {
      "text/plain": [
       "4771248"
      ]
     },
     "execution_count": 8,
     "metadata": {},
     "output_type": "execute_result"
    }
   ],
   "source": [
    "# Let us now create a scatter plot that will the bully and nonBully words with X and Y axes\n",
    "# representing the word frequencies. This code will produce a standalone HTML file, which will\n",
    "# take a while to load and works fine with my chrome browser. I have also included a png image \n",
    "# in this folder for a quick view of how it looks.\n",
    "html = st.produce_scattertext_explorer(corpus,category='Bully',category_name='Bully Words',not_category_name='notBully',\n",
    "                                       width_in_pixels=1000)\n",
    "open(\"bully.html\", 'wb').write(html.encode('utf-8'))"
   ]
  },
  {
   "cell_type": "code",
   "execution_count": null,
   "metadata": {},
   "outputs": [],
   "source": []
  }
 ],
 "metadata": {
  "kernelspec": {
   "display_name": "Python 3",
   "language": "python",
   "name": "python3"
  },
  "language_info": {
   "codemirror_mode": {
    "name": "ipython",
    "version": 3
   },
   "file_extension": ".py",
   "mimetype": "text/x-python",
   "name": "python",
   "nbconvert_exporter": "python",
   "pygments_lexer": "ipython3",
   "version": "3.6.3"
  }
 },
 "nbformat": 4,
 "nbformat_minor": 2
}
